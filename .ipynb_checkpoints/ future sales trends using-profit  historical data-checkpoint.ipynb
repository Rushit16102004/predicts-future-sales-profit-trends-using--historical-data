{
 "cells": [
  {
   "cell_type": "code",
   "execution_count": null,
   "id": "9d1e78ee-52df-41be-a9d3-32b7b23a4dcc",
   "metadata": {},
   "outputs": [],
   "source": [
    "import pandas as pd\n",
    "import matplotlib.pyplot as plt\n",
    "from prophet import Prophet"
   ]
  },
  {
   "cell_type": "markdown",
   "id": "15f615be-ccdd-4df3-89b5-10d288c7b489",
   "metadata": {},
   "source": [
    "## import data"
   ]
  },
  {
   "cell_type": "code",
   "execution_count": null,
   "id": "92b88b8c-a0bf-487d-98c0-c959452a11a6",
   "metadata": {},
   "outputs": [],
   "source": [
    "data = pd.read_csv(\"Data/Sample - Superstore.csv\", encoding='ISO-8859-1')"
   ]
  },
  {
   "cell_type": "code",
   "execution_count": null,
   "id": "4d44638b-ffcf-4d8d-bdcd-7d9b85dc2b1e",
   "metadata": {},
   "outputs": [],
   "source": [
    "data.head()"
   ]
  },
  {
   "cell_type": "code",
   "execution_count": null,
   "id": "7feca36d-24f7-4650-a129-078ff68a426a",
   "metadata": {},
   "outputs": [],
   "source": [
    "data.tail()"
   ]
  },
  {
   "cell_type": "markdown",
   "id": "c688bb27-1ede-4290-b08d-63c8eccf5ee0",
   "metadata": {},
   "source": [
    "# * * * * * * * * * * * * Create profit prediction * * * * * * * * * * * *"
   ]
  },
  {
   "cell_type": "markdown",
   "id": "03dabee0-ab09-4574-b567-2d47bb6082e8",
   "metadata": {},
   "source": [
    "# Create target column."
   ]
  },
  {
   "cell_type": "code",
   "execution_count": null,
   "id": "d95454be-3ff4-4a05-b657-e6b4b4136274",
   "metadata": {},
   "outputs": [],
   "source": [
    "dfP = data[[\"Order Date\", \"Profit\"]].copy()\n"
   ]
  },
  {
   "cell_type": "code",
   "execution_count": null,
   "id": "4a3eba05-5d1a-4410-bb8e-6eb8e5479451",
   "metadata": {},
   "outputs": [],
   "source": [
    "dfP.head()"
   ]
  },
  {
   "cell_type": "code",
   "execution_count": null,
   "id": "cf9568a6-72ad-4a86-b026-683f95704bb2",
   "metadata": {},
   "outputs": [],
   "source": [
    "dfP.plot()"
   ]
  },
  {
   "cell_type": "markdown",
   "id": "976c3a06-ba2a-4083-8719-0b044e8fe28b",
   "metadata": {},
   "source": [
    "# Change column with prophet name"
   ]
  },
  {
   "cell_type": "code",
   "execution_count": null,
   "id": "99d079fe-ebf0-4e98-94ba-95b3517be154",
   "metadata": {},
   "outputs": [],
   "source": [
    "dfP.columns = [\"ds\",\"y\"]"
   ]
  },
  {
   "cell_type": "code",
   "execution_count": null,
   "id": "e4e0fb22-61d2-4ed7-838e-7792fd202b37",
   "metadata": {},
   "outputs": [],
   "source": [
    "dfP.head()"
   ]
  },
  {
   "cell_type": "markdown",
   "id": "759f31bf-d7f8-4d84-99b3-66ceab2d77fb",
   "metadata": {},
   "source": [
    "# Clean data."
   ]
  },
  {
   "cell_type": "code",
   "execution_count": null,
   "id": "697223b0-b8f0-44c2-a458-9250d84a4852",
   "metadata": {},
   "outputs": [],
   "source": [
    "dfP.plot()"
   ]
  },
  {
   "cell_type": "code",
   "execution_count": null,
   "id": "354d9d54-834d-4cac-b8ff-f89f6e404126",
   "metadata": {},
   "outputs": [],
   "source": [
    "plt.boxplot(dfP[\"y\"])\n",
    "plt.show()"
   ]
  },
  {
   "cell_type": "code",
   "execution_count": null,
   "id": "abb94e7d-2a8e-4658-9588-9d48361f3c4a",
   "metadata": {},
   "outputs": [],
   "source": [
    "dfP = dfP[dfP[\"y\"] < 1500]\n",
    "\n",
    "plt.boxplot(dfP[\"y\"])"
   ]
  },
  {
   "cell_type": "code",
   "execution_count": null,
   "id": "53e8f75d-113d-4f66-9fad-9c31be3964ac",
   "metadata": {},
   "outputs": [],
   "source": [
    "dfP = dfP[dfP[\"y\"] > -1500]\n",
    "\n",
    "plt.boxplot(dfP[\"y\"])\n"
   ]
  },
  {
   "cell_type": "code",
   "execution_count": null,
   "id": "33b66541-d927-46ca-a7d3-fc9fecd7ce49",
   "metadata": {},
   "outputs": [],
   "source": [
    "dfP.plot()"
   ]
  },
  {
   "cell_type": "code",
   "execution_count": null,
   "id": "6e7eec46-9bcb-405d-83b9-2a3a467e0927",
   "metadata": {},
   "outputs": [],
   "source": [
    "dfP.isnull().sum()"
   ]
  },
  {
   "cell_type": "code",
   "execution_count": null,
   "id": "ece122ee-971f-4d59-8e4e-5aecdc62e419",
   "metadata": {},
   "outputs": [],
   "source": [
    "dfP.duplicated().sum()"
   ]
  },
  {
   "cell_type": "markdown",
   "id": "9326850f-4722-4659-9a17-6fa0633b78fc",
   "metadata": {},
   "source": [
    "# Change data format according to prophet"
   ]
  },
  {
   "cell_type": "code",
   "execution_count": null,
   "id": "8883954f-5756-4210-9ab5-e995d37dd011",
   "metadata": {},
   "outputs": [],
   "source": [
    "dfP[\"ds\"] = pd.to_datetime(dfP[\"ds\"])"
   ]
  },
  {
   "cell_type": "code",
   "execution_count": null,
   "id": "e72532a5-8cbf-4c40-aa25-99c2581e2e2f",
   "metadata": {},
   "outputs": [],
   "source": [
    "# Assuming your DataFrame is named 'dfP'\n",
    "\n",
    "dfP = dfP.groupby('ds')['y'].sum().reset_index()"
   ]
  },
  {
   "cell_type": "code",
   "execution_count": null,
   "id": "c8c6c21e-c623-470c-89bb-62b981208873",
   "metadata": {},
   "outputs": [],
   "source": [
    "dfP.head()"
   ]
  },
  {
   "cell_type": "code",
   "execution_count": null,
   "id": "e2fd0992-0b72-4251-b529-8a6b2386631b",
   "metadata": {},
   "outputs": [],
   "source": [
    "dfP.tail()"
   ]
  },
  {
   "cell_type": "markdown",
   "id": "70089cc9-a5f3-4374-b356-60fd239e4be7",
   "metadata": {},
   "source": [
    "# Create CSV file. Original data."
   ]
  },
  {
   "cell_type": "code",
   "execution_count": null,
   "id": "b78cdd81-af6c-4dd3-8bc8-a24d888c27e7",
   "metadata": {},
   "outputs": [],
   "source": [
    "# dfP.to_csv('Sample-Superstore-Profit.csv', index=False)"
   ]
  },
  {
   "cell_type": "markdown",
   "id": "d716d2cb-1045-46c8-9dc2-8f59cfab050a",
   "metadata": {},
   "source": [
    "# model import"
   ]
  },
  {
   "cell_type": "code",
   "execution_count": null,
   "id": "df12747c-0af6-4a48-8b20-3a88f81d483e",
   "metadata": {},
   "outputs": [],
   "source": [
    "holidays = pd.DataFrame({\n",
    "    'holiday': 'special_event',\n",
    "    'ds': pd.to_datetime(['2018-01-01', '2018-12-25']),\n",
    "    'lower_window': 0,\n",
    "    'upper_window': 1,\n",
    "})"
   ]
  },
  {
   "cell_type": "code",
   "execution_count": null,
   "id": "1ab76d07-9acf-42f6-8b77-fd7744ed95e6",
   "metadata": {},
   "outputs": [],
   "source": [
    "modelP = Prophet(holidays=holidays, yearly_seasonality=True, weekly_seasonality=True, daily_seasonality=False)\n",
    "\n",
    "modelP.add_seasonality(name='monthly', period=30.5, fourier_order=5)\n"
   ]
  },
  {
   "cell_type": "code",
   "execution_count": null,
   "id": "70f309b0-d12b-4530-bb2d-8002f1cb64fa",
   "metadata": {},
   "outputs": [],
   "source": [
    "dfP.columns"
   ]
  },
  {
   "cell_type": "code",
   "execution_count": null,
   "id": "8439dcd8-26b0-44fb-8365-9f7861b27d0c",
   "metadata": {},
   "outputs": [],
   "source": [
    "modelP.fit(dfP)"
   ]
  },
  {
   "cell_type": "code",
   "execution_count": null,
   "id": "b560e697-a3ed-4056-af14-2232844004d0",
   "metadata": {},
   "outputs": [],
   "source": [
    "future_dates = modelP.make_future_dataframe(periods=365)"
   ]
  },
  {
   "cell_type": "code",
   "execution_count": null,
   "id": "af980ca1-ffbf-4e11-92ee-7d0cfd70a980",
   "metadata": {},
   "outputs": [],
   "source": [
    "future_dates.tail()"
   ]
  },
  {
   "cell_type": "markdown",
   "id": "b8ff5348-52d3-48bc-8c7c-ef900ecc7112",
   "metadata": {},
   "source": [
    "# Next 365 days Profit prediction, 2018."
   ]
  },
  {
   "cell_type": "code",
   "execution_count": null,
   "id": "2bc238f2-caec-4eee-a740-caa8325a257a",
   "metadata": {},
   "outputs": [],
   "source": [
    "predictionP = modelP.predict(future_dates)"
   ]
  },
  {
   "cell_type": "code",
   "execution_count": null,
   "id": "9238906e-134f-4a10-b22d-9fa1ebf7e45f",
   "metadata": {},
   "outputs": [],
   "source": [
    "predictionP.head()"
   ]
  },
  {
   "cell_type": "code",
   "execution_count": null,
   "id": "a4ce5c3b-bd20-42a0-9808-4dbabea1d92a",
   "metadata": {},
   "outputs": [],
   "source": [
    "predictionP.tail()"
   ]
  },
  {
   "cell_type": "code",
   "execution_count": null,
   "id": "ffe3692a-e968-4b75-b5f7-535a43e4f8e0",
   "metadata": {},
   "outputs": [],
   "source": [
    "modelP.plot(predictionP)"
   ]
  },
  {
   "cell_type": "code",
   "execution_count": null,
   "id": "886c3eba-297f-4bcc-9053-58b7ef92fcca",
   "metadata": {},
   "outputs": [],
   "source": [
    "# Visualize each component.[Trad and Weekliy]\n",
    "modelP.plot_components(predictionP)"
   ]
  },
  {
   "cell_type": "markdown",
   "id": "2822ad46-347b-4a38-b258-bb27ae1f8b66",
   "metadata": {},
   "source": [
    "# cross_validation"
   ]
  },
  {
   "cell_type": "code",
   "execution_count": null,
   "id": "e3572d3b-09f9-4aad-a11e-ddeaccf396a0",
   "metadata": {},
   "outputs": [],
   "source": [
    "from prophet.diagnostics import cross_validation\n",
    "\n",
    "df_cv = cross_validation(modelP, initial='730 days', period='180 days', horizon='365 days')\n",
    "\n",
    "df_cv.tail()"
   ]
  },
  {
   "cell_type": "code",
   "execution_count": null,
   "id": "26e22e70-d1af-49fe-a8ae-ea4ff65655e0",
   "metadata": {},
   "outputs": [],
   "source": [
    "from prophet.diagnostics import performance_metrics\n",
    "\n",
    "df_p =performance_metrics(df_cv)\n",
    "df_p.head()"
   ]
  },
  {
   "cell_type": "code",
   "execution_count": null,
   "id": "f8ef44ff-9887-44b2-a192-c538c3579ef8",
   "metadata": {},
   "outputs": [],
   "source": [
    "from prophet.plot import plot_cross_validation_metric\n",
    "\n",
    "fig = plot_cross_validation_metric(df_cv , metric=\"rmse\")"
   ]
  },
  {
   "cell_type": "code",
   "execution_count": null,
   "id": "26cf13ed-48d7-44c7-8b20-45a9da5f5baa",
   "metadata": {},
   "outputs": [],
   "source": [
    "from prophet.diagnostics import cross_validation, performance_metrics\n",
    "\n",
    "# Cross-validation\n",
    "df_cv = cross_validation(modelP, initial='365 days', period='90 days', horizon='180 days')\n",
    "\n",
    "# Performance metrics\n",
    "df_p = performance_metrics(df_cv)\n",
    "\n",
    "print(\"MAE:\", df_p['mae'].mean())\n",
    "print(\"RMSE:\", df_p['rmse'].mean())\n",
    "print(\"MAPE:\", df_p['mape'].mean())"
   ]
  },
  {
   "cell_type": "markdown",
   "id": "3cd8da55-683b-4c81-b796-ab0e5ff1836f",
   "metadata": {},
   "source": [
    "# Predicted value CSV."
   ]
  },
  {
   "cell_type": "code",
   "execution_count": null,
   "id": "36aaa2af-d06f-4781-8c75-e48be4b4856c",
   "metadata": {},
   "outputs": [],
   "source": [
    "# predictionP.to_csv('Sample-Superstore-predicted-Profit.csv', index=False)"
   ]
  },
  {
   "cell_type": "markdown",
   "id": "57e1b547-cd5e-4308-befa-d0dbd3a213f6",
   "metadata": {},
   "source": [
    "# * * * * * * * * * * * * Create sales prediction * * * * * * * * * * * *"
   ]
  },
  {
   "cell_type": "markdown",
   "id": "523c8e9e-13a7-48d4-91ec-deb88e6268ab",
   "metadata": {},
   "source": [
    "# Create target column."
   ]
  },
  {
   "cell_type": "code",
   "execution_count": null,
   "id": "89ca4660-3c5c-4a43-bf83-ff9326073777",
   "metadata": {},
   "outputs": [],
   "source": [
    "dfS = data[[\"Order Date\", \"Sales\"]].copy()\n"
   ]
  },
  {
   "cell_type": "code",
   "execution_count": null,
   "id": "f114cd28-f06f-4f32-876d-5a5a2bdc678c",
   "metadata": {},
   "outputs": [],
   "source": [
    "dfP.plot()"
   ]
  },
  {
   "cell_type": "markdown",
   "id": "8dcc7b55-0412-4824-86e1-5eb70c6df38a",
   "metadata": {},
   "source": [
    "# Change column with prophet name"
   ]
  },
  {
   "cell_type": "code",
   "execution_count": null,
   "id": "a2fde5d9-d140-443d-acc0-a785a028da4c",
   "metadata": {},
   "outputs": [],
   "source": [
    "dfS.columns = [\"ds\",\"y\"]"
   ]
  },
  {
   "cell_type": "code",
   "execution_count": null,
   "id": "7e8098dd-97e7-48e1-bddf-2954e89c3346",
   "metadata": {},
   "outputs": [],
   "source": [
    "dfS.head()"
   ]
  },
  {
   "cell_type": "markdown",
   "id": "d30573d7-5b07-4a63-8026-9f533a39bb29",
   "metadata": {},
   "source": [
    "# Clean data."
   ]
  },
  {
   "cell_type": "code",
   "execution_count": null,
   "id": "a6b0b3df-baee-44dc-8910-8377cb694212",
   "metadata": {},
   "outputs": [],
   "source": [
    "dfS.plot()"
   ]
  },
  {
   "cell_type": "code",
   "execution_count": null,
   "id": "e60cfc04-e448-43a5-87ef-4fbef38a65b0",
   "metadata": {},
   "outputs": [],
   "source": [
    "plt.boxplot(dfS[\"y\"])\n",
    "plt.show()"
   ]
  },
  {
   "cell_type": "code",
   "execution_count": null,
   "id": "12507b23-3563-4663-8551-4e9faf30f128",
   "metadata": {},
   "outputs": [],
   "source": [
    "# dfS = dfS[dfS[\"y\"] < 5700]\n",
    "\n",
    "# plt.boxplot(dfS[\"y\"])"
   ]
  },
  {
   "cell_type": "code",
   "execution_count": null,
   "id": "a39db006-2996-4863-99ba-9e023e6f55f5",
   "metadata": {},
   "outputs": [],
   "source": [
    "dfS.plot()"
   ]
  },
  {
   "cell_type": "code",
   "execution_count": null,
   "id": "1eb69bf9-b4c1-45f1-90e9-0208406e63ab",
   "metadata": {},
   "outputs": [],
   "source": [
    "dfS.isnull().sum()"
   ]
  },
  {
   "cell_type": "code",
   "execution_count": null,
   "id": "753bb20b-6477-48c7-b760-56ebc4985feb",
   "metadata": {},
   "outputs": [],
   "source": [
    "dfS.duplicated().sum()"
   ]
  },
  {
   "cell_type": "markdown",
   "id": "1aa685ee-3e5c-4922-8f45-f51e9c8eb8c0",
   "metadata": {},
   "source": [
    "# Change data format according to prophet\n"
   ]
  },
  {
   "cell_type": "code",
   "execution_count": null,
   "id": "4e325a9a-e576-4880-a93d-b87f2f4927ac",
   "metadata": {},
   "outputs": [],
   "source": [
    "dfS[\"ds\"] = pd.to_datetime(dfS[\"ds\"])"
   ]
  },
  {
   "cell_type": "code",
   "execution_count": null,
   "id": "0159da82-76b2-44c1-8685-1029a46a0908",
   "metadata": {},
   "outputs": [],
   "source": [
    "# dfS = dfS.groupby('ds')['y'].sum().reset_index()"
   ]
  },
  {
   "cell_type": "code",
   "execution_count": null,
   "id": "7016210e-222a-41de-83ca-d828dfa0411b",
   "metadata": {},
   "outputs": [],
   "source": [
    "dfS.head()"
   ]
  },
  {
   "cell_type": "code",
   "execution_count": null,
   "id": "f0f9c320-e6b9-4607-a724-a825d1d6321b",
   "metadata": {},
   "outputs": [],
   "source": [
    "dfS.tail()"
   ]
  },
  {
   "cell_type": "markdown",
   "id": "e20740e9-7812-44dc-9830-0649581a0d1d",
   "metadata": {},
   "source": [
    "# Create CSV file. Original data.\n"
   ]
  },
  {
   "cell_type": "code",
   "execution_count": null,
   "id": "7bd58557-abfb-4618-938b-4a5bf6d1ef03",
   "metadata": {},
   "outputs": [],
   "source": [
    "# dfS.to_csv('Sample-Superstore-Sales.csv', index=False)"
   ]
  },
  {
   "cell_type": "markdown",
   "id": "d1cd1b50-9a4d-4f1c-a4cf-095c633c2b8c",
   "metadata": {},
   "source": [
    "# model import"
   ]
  },
  {
   "cell_type": "code",
   "execution_count": null,
   "id": "8540cebf-5058-42f8-bbdb-167bd5971187",
   "metadata": {},
   "outputs": [],
   "source": [
    "holidays = pd.DataFrame({\n",
    "    'holiday': 'special_event',\n",
    "    'ds': pd.to_datetime(['2018-01-01', '2018-12-25']),\n",
    "    'lower_window': 0,\n",
    "    'upper_window': 1,\n",
    "})"
   ]
  },
  {
   "cell_type": "code",
   "execution_count": null,
   "id": "3d428f93-8ba6-4777-9e5b-6b8b02e50037",
   "metadata": {},
   "outputs": [],
   "source": [
    "modelS = Prophet(yearly_seasonality=True, weekly_seasonality=True, daily_seasonality=False)\n",
    "\n",
    "modelS.add_seasonality(name='monthly', period=30.5, fourier_order=5)\n"
   ]
  },
  {
   "cell_type": "code",
   "execution_count": null,
   "id": "a846736d-2671-4049-9b0b-6071bd3e331e",
   "metadata": {},
   "outputs": [],
   "source": [
    "dfS.columns"
   ]
  },
  {
   "cell_type": "code",
   "execution_count": null,
   "id": "fb8aed10-43dc-48c6-8baf-bb87462b7f64",
   "metadata": {},
   "outputs": [],
   "source": [
    "modelS.fit(dfS)"
   ]
  },
  {
   "cell_type": "code",
   "execution_count": null,
   "id": "330298ef-cbcd-495a-ba6c-1d468a84c10e",
   "metadata": {},
   "outputs": [],
   "source": [
    "future_dates = modelS.make_future_dataframe(periods=365)"
   ]
  },
  {
   "cell_type": "code",
   "execution_count": null,
   "id": "48c92605-6fd5-4041-92c2-8a5a3d1e55b3",
   "metadata": {},
   "outputs": [],
   "source": [
    "future_dates.tail()"
   ]
  },
  {
   "cell_type": "markdown",
   "id": "f7304469-1885-4e14-8962-a66e358682b4",
   "metadata": {},
   "source": [
    "# Next 365 days Profit prediction, 2018.\n"
   ]
  },
  {
   "cell_type": "code",
   "execution_count": null,
   "id": "4c342792-dcc8-4a33-bbf9-56d9461c8e3d",
   "metadata": {},
   "outputs": [],
   "source": [
    "predictionS = modelS.predict(future_dates)"
   ]
  },
  {
   "cell_type": "code",
   "execution_count": null,
   "id": "f3978570-a6b1-4a9d-bd7a-e141920f50e4",
   "metadata": {},
   "outputs": [],
   "source": [
    "predictionS.head()"
   ]
  },
  {
   "cell_type": "code",
   "execution_count": null,
   "id": "a43095bc-747c-4406-abd7-eb41d5ee029a",
   "metadata": {},
   "outputs": [],
   "source": [
    "# predictionS.tail()"
   ]
  },
  {
   "cell_type": "code",
   "execution_count": null,
   "id": "93917031-e7c7-491b-a674-e4f5b3bb4b05",
   "metadata": {},
   "outputs": [],
   "source": [
    "modelS.plot(predictionS)"
   ]
  },
  {
   "cell_type": "code",
   "execution_count": null,
   "id": "ab8265d9-e943-4be8-a681-fdbe5d3d9588",
   "metadata": {},
   "outputs": [],
   "source": [
    "# Visualize each component.[Trad and Weekliy]\n",
    "modelS.plot_components(predictionS)"
   ]
  },
  {
   "cell_type": "markdown",
   "id": "9057a932-dee6-4316-9654-2161774d518b",
   "metadata": {},
   "source": [
    "# cross_validation"
   ]
  },
  {
   "cell_type": "code",
   "execution_count": null,
   "id": "0be313ee-b588-49b4-a5e5-179b18087366",
   "metadata": {},
   "outputs": [],
   "source": [
    "from prophet.diagnostics import cross_validation\n",
    "\n",
    "df_cv = cross_validation(modelS, initial='730 days', period='180 days', horizon='365 days')\n",
    "\n",
    "df_cv.tail()"
   ]
  },
  {
   "cell_type": "code",
   "execution_count": null,
   "id": "ffb16a47-1e97-4739-b03a-ef2d5303d7bb",
   "metadata": {},
   "outputs": [],
   "source": [
    "from prophet.diagnostics import performance_metrics\n",
    "\n",
    "df_p =performance_metrics(df_cv)\n",
    "df_p.head()"
   ]
  },
  {
   "cell_type": "code",
   "execution_count": null,
   "id": "710ea17e-f64f-4b65-9fd4-ba9ecde07dc7",
   "metadata": {},
   "outputs": [],
   "source": [
    "from prophet.plot import plot_cross_validation_metric\n",
    "\n",
    "fig = plot_cross_validation_metric(df_cv , metric=\"rmse\")"
   ]
  },
  {
   "cell_type": "code",
   "execution_count": null,
   "id": "ff34a91a-6938-4cf0-8692-c1fd522f42f2",
   "metadata": {},
   "outputs": [],
   "source": [
    "# Cross-validation\n",
    "df_cv = cross_validation(modelS, initial='365 days', period='90 days', horizon='180 days')\n",
    "\n",
    "# Performance metrics\n",
    "df_p = performance_metrics(df_cv)\n",
    "\n",
    "print(\"MAE:\", df_p['mae'].mean())\n",
    "print(\"RMSE:\", df_p['rmse'].mean())\n",
    "print(\"MAPE:\", df_p['mape'].mean())"
   ]
  },
  {
   "cell_type": "markdown",
   "id": "8d1d1077-edc3-4974-8e23-f2d87ae9cb09",
   "metadata": {},
   "source": [
    "# Predicted value CSV."
   ]
  },
  {
   "cell_type": "code",
   "execution_count": null,
   "id": "76eb625c-3293-47c6-a702-bc947c4c9544",
   "metadata": {},
   "outputs": [],
   "source": [
    "predictionP.to_csv('Sample-Superstore-predicted-Sales.csv', index=False)"
   ]
  }
 ],
 "metadata": {
  "kernelspec": {
   "display_name": "Python 3 (ipykernel)",
   "language": "python",
   "name": "python3"
  },
  "language_info": {
   "codemirror_mode": {
    "name": "ipython",
    "version": 3
   },
   "file_extension": ".py",
   "mimetype": "text/x-python",
   "name": "python",
   "nbconvert_exporter": "python",
   "pygments_lexer": "ipython3",
   "version": "3.11.9"
  }
 },
 "nbformat": 4,
 "nbformat_minor": 5
}
